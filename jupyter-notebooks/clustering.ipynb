{
 "cells": [
  {
   "cell_type": "code",
   "execution_count": 30,
   "metadata": {},
   "outputs": [],
   "source": [
    "from tensorflow.keras.applications.inception_v3 import InceptionV3\n",
    "from tensorflow.keras.applications.inception_v3 import preprocess_input\n",
    "from tensorflow.keras import layers\n",
    "from tensorflow.keras.preprocessing import image\n",
    "from tensorflow.keras.preprocessing.image import img_to_array\n",
    "from util.preprocessing import ImgPreprocess\n",
    "from util.CriaTagTipo import CriaTagTipo\n",
    "import pandas as pd\n",
    "import numpy as np\n",
    "from tqdm import tqdm\n",
    "import os\n",
    "\n",
    "import seaborn\n",
    "import xgboost"
   ]
  },
  {
   "cell_type": "code",
   "execution_count": 1,
   "metadata": {},
   "outputs": [],
   "source": [
    "import pandas as pd\n",
    "import tensorflow as tf\n",
    "import pathlib\n",
    "from tensorflow.keras import layers\n",
    "from util.preprocessing import ImgPreprocess\n",
    "from util.CriaTagTipo import CriaTagTipo\n",
    "import pathlib\n",
    "import shutil"
   ]
  },
  {
   "cell_type": "code",
   "execution_count": 2,
   "metadata": {},
   "outputs": [
    {
     "data": {
      "text/html": [
       "<div>\n",
       "<style scoped>\n",
       "    .dataframe tbody tr th:only-of-type {\n",
       "        vertical-align: middle;\n",
       "    }\n",
       "\n",
       "    .dataframe tbody tr th {\n",
       "        vertical-align: top;\n",
       "    }\n",
       "\n",
       "    .dataframe thead th {\n",
       "        text-align: right;\n",
       "    }\n",
       "</style>\n",
       "<table border=\"1\" class=\"dataframe\">\n",
       "  <thead>\n",
       "    <tr style=\"text-align: right;\">\n",
       "      <th></th>\n",
       "      <th>image</th>\n",
       "      <th>individual_id</th>\n",
       "    </tr>\n",
       "    <tr>\n",
       "      <th>species</th>\n",
       "      <th></th>\n",
       "      <th></th>\n",
       "    </tr>\n",
       "  </thead>\n",
       "  <tbody>\n",
       "    <tr>\n",
       "      <th>frasiers_dolphin</th>\n",
       "      <td>14</td>\n",
       "      <td>14</td>\n",
       "    </tr>\n",
       "    <tr>\n",
       "      <th>rough_toothed_dolphin</th>\n",
       "      <td>60</td>\n",
       "      <td>60</td>\n",
       "    </tr>\n",
       "    <tr>\n",
       "      <th>pygmy_killer_whale</th>\n",
       "      <td>76</td>\n",
       "      <td>76</td>\n",
       "    </tr>\n",
       "    <tr>\n",
       "      <th>commersons_dolphin</th>\n",
       "      <td>90</td>\n",
       "      <td>90</td>\n",
       "    </tr>\n",
       "    <tr>\n",
       "      <th>globis</th>\n",
       "      <td>116</td>\n",
       "      <td>116</td>\n",
       "    </tr>\n",
       "    <tr>\n",
       "      <th>pantropic_spotted_dolphin</th>\n",
       "      <td>145</td>\n",
       "      <td>145</td>\n",
       "    </tr>\n",
       "    <tr>\n",
       "      <th>brydes_whale</th>\n",
       "      <td>154</td>\n",
       "      <td>154</td>\n",
       "    </tr>\n",
       "    <tr>\n",
       "      <th>white_sided_dolphin</th>\n",
       "      <td>229</td>\n",
       "      <td>229</td>\n",
       "    </tr>\n",
       "    <tr>\n",
       "      <th>long_finned_pilot_whale</th>\n",
       "      <td>238</td>\n",
       "      <td>238</td>\n",
       "    </tr>\n",
       "    <tr>\n",
       "      <th>pilot_whale</th>\n",
       "      <td>262</td>\n",
       "      <td>262</td>\n",
       "    </tr>\n",
       "    <tr>\n",
       "      <th>cuviers_beaked_whale</th>\n",
       "      <td>341</td>\n",
       "      <td>341</td>\n",
       "    </tr>\n",
       "    <tr>\n",
       "      <th>common_dolphin</th>\n",
       "      <td>347</td>\n",
       "      <td>347</td>\n",
       "    </tr>\n",
       "    <tr>\n",
       "      <th>short_finned_pilot_whale</th>\n",
       "      <td>367</td>\n",
       "      <td>367</td>\n",
       "    </tr>\n",
       "    <tr>\n",
       "      <th>sei_whale</th>\n",
       "      <td>428</td>\n",
       "      <td>428</td>\n",
       "    </tr>\n",
       "    <tr>\n",
       "      <th>spotted_dolphin</th>\n",
       "      <td>490</td>\n",
       "      <td>490</td>\n",
       "    </tr>\n",
       "    <tr>\n",
       "      <th>southern_right_whale</th>\n",
       "      <td>866</td>\n",
       "      <td>866</td>\n",
       "    </tr>\n",
       "    <tr>\n",
       "      <th>kiler_whale</th>\n",
       "      <td>962</td>\n",
       "      <td>962</td>\n",
       "    </tr>\n",
       "    <tr>\n",
       "      <th>bottlenose_dolpin</th>\n",
       "      <td>1117</td>\n",
       "      <td>1117</td>\n",
       "    </tr>\n",
       "    <tr>\n",
       "      <th>gray_whale</th>\n",
       "      <td>1123</td>\n",
       "      <td>1123</td>\n",
       "    </tr>\n",
       "    <tr>\n",
       "      <th>fin_whale</th>\n",
       "      <td>1324</td>\n",
       "      <td>1324</td>\n",
       "    </tr>\n",
       "    <tr>\n",
       "      <th>killer_whale</th>\n",
       "      <td>1493</td>\n",
       "      <td>1493</td>\n",
       "    </tr>\n",
       "    <tr>\n",
       "      <th>minke_whale</th>\n",
       "      <td>1608</td>\n",
       "      <td>1608</td>\n",
       "    </tr>\n",
       "    <tr>\n",
       "      <th>melon_headed_whale</th>\n",
       "      <td>1689</td>\n",
       "      <td>1689</td>\n",
       "    </tr>\n",
       "    <tr>\n",
       "      <th>spinner_dolphin</th>\n",
       "      <td>1700</td>\n",
       "      <td>1700</td>\n",
       "    </tr>\n",
       "    <tr>\n",
       "      <th>dusky_dolphin</th>\n",
       "      <td>3139</td>\n",
       "      <td>3139</td>\n",
       "    </tr>\n",
       "    <tr>\n",
       "      <th>false_killer_whale</th>\n",
       "      <td>3326</td>\n",
       "      <td>3326</td>\n",
       "    </tr>\n",
       "    <tr>\n",
       "      <th>blue_whale</th>\n",
       "      <td>4830</td>\n",
       "      <td>4830</td>\n",
       "    </tr>\n",
       "    <tr>\n",
       "      <th>humpback_whale</th>\n",
       "      <td>7392</td>\n",
       "      <td>7392</td>\n",
       "    </tr>\n",
       "    <tr>\n",
       "      <th>beluga</th>\n",
       "      <td>7443</td>\n",
       "      <td>7443</td>\n",
       "    </tr>\n",
       "    <tr>\n",
       "      <th>bottlenose_dolphin</th>\n",
       "      <td>9664</td>\n",
       "      <td>9664</td>\n",
       "    </tr>\n",
       "  </tbody>\n",
       "</table>\n",
       "</div>"
      ],
      "text/plain": [
       "                           image  individual_id\n",
       "species                                        \n",
       "frasiers_dolphin              14             14\n",
       "rough_toothed_dolphin         60             60\n",
       "pygmy_killer_whale            76             76\n",
       "commersons_dolphin            90             90\n",
       "globis                       116            116\n",
       "pantropic_spotted_dolphin    145            145\n",
       "brydes_whale                 154            154\n",
       "white_sided_dolphin          229            229\n",
       "long_finned_pilot_whale      238            238\n",
       "pilot_whale                  262            262\n",
       "cuviers_beaked_whale         341            341\n",
       "common_dolphin               347            347\n",
       "short_finned_pilot_whale     367            367\n",
       "sei_whale                    428            428\n",
       "spotted_dolphin              490            490\n",
       "southern_right_whale         866            866\n",
       "kiler_whale                  962            962\n",
       "bottlenose_dolpin           1117           1117\n",
       "gray_whale                  1123           1123\n",
       "fin_whale                   1324           1324\n",
       "killer_whale                1493           1493\n",
       "minke_whale                 1608           1608\n",
       "melon_headed_whale          1689           1689\n",
       "spinner_dolphin             1700           1700\n",
       "dusky_dolphin               3139           3139\n",
       "false_killer_whale          3326           3326\n",
       "blue_whale                  4830           4830\n",
       "humpback_whale              7392           7392\n",
       "beluga                      7443           7443\n",
       "bottlenose_dolphin          9664           9664"
      ]
     },
     "execution_count": 2,
     "metadata": {},
     "output_type": "execute_result"
    }
   ],
   "source": [
    "dataframe = ImgPreprocess.read_csv('images/train.csv')\n",
    "tag_tipo_df = ImgPreprocess.read_csv('outputs/train_with_tags.csv')\n",
    "stats_dataframe = dataframe.groupby(by=['species']).count().sort_values(by=['image'])\n",
    "stats_dataframe"
   ]
  },
  {
   "cell_type": "markdown",
   "metadata": {},
   "source": [
    "## Preprocessing"
   ]
  },
  {
   "cell_type": "code",
   "execution_count": 27,
   "metadata": {},
   "outputs": [
    {
     "name": "stderr",
     "output_type": "stream",
     "text": [
      "/usr/local/lib/python3.6/dist-packages/ipykernel_launcher.py:10: SettingWithCopyWarning: \n",
      "A value is trying to be set on a copy of a slice from a DataFrame.\n",
      "Try using .loc[row_indexer,col_indexer] = value instead\n",
      "\n",
      "See the caveats in the documentation: https://pandas.pydata.org/pandas-docs/stable/user_guide/indexing.html#returning-a-view-versus-a-copy\n",
      "  # Remove the CWD from sys.path while we load stuff.\n"
     ]
    }
   ],
   "source": [
    "basedir = '/usr/src/app/happy-whale-and-dolphin/train_images'\n",
    "# img_name_list = dataframe['image'].to_list()\n",
    "# img_name_list = [f'{basedir}/{fig_name}' for fig_name in img_name_list]\n",
    "\n",
    "# for img_path in img_name_list:\n",
    "#   img = img_preproc.resize_image(img_path,(100,100),True)\n",
    "#   img_preproc.save_image(img, img_path)\n",
    "    aug_df =  tag_tipo_df[tag_tipo_df['species']=='frasiers_dolphin']\n",
    "    aug_df['img_path'] = basedir +'/'+ aug_df['image']\n"
   ]
  },
  {
   "cell_type": "code",
   "execution_count": 25,
   "metadata": {},
   "outputs": [
    {
     "data": {
      "text/plain": [
       "6516    /usr/src/app/happy-whale-and-dolphin/train_ima...\n",
       "Name: img_path, dtype: object"
      ]
     },
     "execution_count": 25,
     "metadata": {},
     "output_type": "execute_result"
    }
   ],
   "source": [
    "aug_df['img_path'][:1]"
   ]
  },
  {
   "cell_type": "code",
   "execution_count": 3,
   "metadata": {},
   "outputs": [
    {
     "name": "stdout",
     "output_type": "stream",
     "text": [
      "Found 14 files belonging to 1 classes.\n",
      "Using 2 files for validation.\n"
     ]
    }
   ],
   "source": [
    "aug_ds = ImgPreprocess.create_img_training_dataset('images/aug_images', validation_split=0.2, subset=\"validation\",seed=123)\n",
    "img_aug = tf.keras.Sequential([layers.RandomFlip(\"horizontal_and_vertical\"),\n",
    "                               layers.RandomRotation(0.2),layers.])"
   ]
  },
  {
   "cell_type": "code",
   "execution_count": 4,
   "metadata": {},
   "outputs": [
    {
     "data": {
      "text/plain": [
       "['frasiers_dolphin']"
      ]
     },
     "execution_count": 4,
     "metadata": {},
     "output_type": "execute_result"
    }
   ],
   "source": []
  },
  {
   "cell_type": "code",
   "execution_count": null,
   "metadata": {},
   "outputs": [],
   "source": []
  }
 ],
 "metadata": {
  "kernelspec": {
   "display_name": "Python 3",
   "language": "python",
   "name": "python3"
  },
  "language_info": {
   "codemirror_mode": {
    "name": "ipython",
    "version": 3
   },
   "file_extension": ".py",
   "mimetype": "text/x-python",
   "name": "python",
   "nbconvert_exporter": "python",
   "pygments_lexer": "ipython3",
   "version": "3.6.9"
  },
  "orig_nbformat": 4
 },
 "nbformat": 4,
 "nbformat_minor": 2
}
